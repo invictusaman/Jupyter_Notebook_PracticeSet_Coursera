{
 "cells": [
  {
   "cell_type": "markdown",
   "metadata": {},
   "source": [
    "## Activity 3   \n",
    "\n",
    "- Find how many records this data frame has;\n",
    "- How many elements are there?\n",
    "- What are the column names?\n",
    "- What types of columns do we have in this data frame?\n",
    "- Give the summary for the numeric columns in the dataset\n",
    "- Calculate standard deviation for all numeric columns;\n",
    "- What are the mean values of the first 50 records in the dataset? Hint: Use `head()` method to subset the first 50 records and then calculate the mean.\n",
    "\n",
    "---"
   ]
  },
  {
   "cell_type": "code",
   "execution_count": 38,
   "metadata": {},
   "outputs": [
    {
     "data": {
      "text/html": [
       "<div>\n",
       "<style scoped>\n",
       "    .dataframe tbody tr th:only-of-type {\n",
       "        vertical-align: middle;\n",
       "    }\n",
       "\n",
       "    .dataframe tbody tr th {\n",
       "        vertical-align: top;\n",
       "    }\n",
       "\n",
       "    .dataframe thead th {\n",
       "        text-align: right;\n",
       "    }\n",
       "</style>\n",
       "<table border=\"1\" class=\"dataframe\">\n",
       "  <thead>\n",
       "    <tr style=\"text-align: right;\">\n",
       "      <th></th>\n",
       "      <th>Date</th>\n",
       "      <th>Region</th>\n",
       "      <th>Store</th>\n",
       "      <th>Units Sold</th>\n",
       "      <th>Average Retail Price</th>\n",
       "      <th>Sales Rep</th>\n",
       "      <th>Endcap</th>\n",
       "      <th>Demo</th>\n",
       "      <th>Demo1-3</th>\n",
       "      <th>Demo4-5</th>\n",
       "      <th>Natural</th>\n",
       "      <th>Fitness</th>\n",
       "    </tr>\n",
       "  </thead>\n",
       "  <tbody>\n",
       "    <tr>\n",
       "      <th>0</th>\n",
       "      <td>2010-05-04</td>\n",
       "      <td>FL</td>\n",
       "      <td>Biscayne (aka Aventura)</td>\n",
       "      <td>150.702088</td>\n",
       "      <td>4.390000</td>\n",
       "      <td>0</td>\n",
       "      <td>0</td>\n",
       "      <td>0</td>\n",
       "      <td>0</td>\n",
       "      <td>0</td>\n",
       "      <td>1</td>\n",
       "      <td>0</td>\n",
       "    </tr>\n",
       "    <tr>\n",
       "      <th>1</th>\n",
       "      <td>2010-05-11</td>\n",
       "      <td>FL</td>\n",
       "      <td>Biscayne (aka Aventura)</td>\n",
       "      <td>197.403797</td>\n",
       "      <td>3.997692</td>\n",
       "      <td>0</td>\n",
       "      <td>0</td>\n",
       "      <td>0</td>\n",
       "      <td>0</td>\n",
       "      <td>0</td>\n",
       "      <td>1</td>\n",
       "      <td>0</td>\n",
       "    </tr>\n",
       "    <tr>\n",
       "      <th>2</th>\n",
       "      <td>2010-05-18</td>\n",
       "      <td>FL</td>\n",
       "      <td>Biscayne (aka Aventura)</td>\n",
       "      <td>235.106172</td>\n",
       "      <td>3.809231</td>\n",
       "      <td>0</td>\n",
       "      <td>0</td>\n",
       "      <td>0</td>\n",
       "      <td>0</td>\n",
       "      <td>0</td>\n",
       "      <td>1</td>\n",
       "      <td>0</td>\n",
       "    </tr>\n",
       "    <tr>\n",
       "      <th>3</th>\n",
       "      <td>2010-05-25</td>\n",
       "      <td>FL</td>\n",
       "      <td>Biscayne (aka Aventura)</td>\n",
       "      <td>226.692427</td>\n",
       "      <td>3.835000</td>\n",
       "      <td>0</td>\n",
       "      <td>0</td>\n",
       "      <td>0</td>\n",
       "      <td>0</td>\n",
       "      <td>0</td>\n",
       "      <td>1</td>\n",
       "      <td>0</td>\n",
       "    </tr>\n",
       "    <tr>\n",
       "      <th>4</th>\n",
       "      <td>2010-06-01</td>\n",
       "      <td>FL</td>\n",
       "      <td>Biscayne (aka Aventura)</td>\n",
       "      <td>257.688151</td>\n",
       "      <td>3.902500</td>\n",
       "      <td>0</td>\n",
       "      <td>0</td>\n",
       "      <td>0</td>\n",
       "      <td>0</td>\n",
       "      <td>0</td>\n",
       "      <td>1</td>\n",
       "      <td>0</td>\n",
       "    </tr>\n",
       "  </tbody>\n",
       "</table>\n",
       "</div>"
      ],
      "text/plain": [
       "        Date Region                    Store  Units Sold  \\\n",
       "0 2010-05-04     FL  Biscayne (aka Aventura)  150.702088   \n",
       "1 2010-05-11     FL  Biscayne (aka Aventura)  197.403797   \n",
       "2 2010-05-18     FL  Biscayne (aka Aventura)  235.106172   \n",
       "3 2010-05-25     FL  Biscayne (aka Aventura)  226.692427   \n",
       "4 2010-06-01     FL  Biscayne (aka Aventura)  257.688151   \n",
       "\n",
       "   Average Retail Price  Sales Rep  Endcap  Demo  Demo1-3  Demo4-5  Natural  \\\n",
       "0              4.390000          0       0     0        0        0        1   \n",
       "1              3.997692          0       0     0        0        0        1   \n",
       "2              3.809231          0       0     0        0        0        1   \n",
       "3              3.835000          0       0     0        0        0        1   \n",
       "4              3.902500          0       0     0        0        0        1   \n",
       "\n",
       "   Fitness  \n",
       "0        0  \n",
       "1        0  \n",
       "2        0  \n",
       "3        0  \n",
       "4        0  "
      ]
     },
     "execution_count": 38,
     "metadata": {},
     "output_type": "execute_result"
    }
   ],
   "source": [
    "import pandas as pd\n",
    "df = pd.read_excel('Datasets/GoodBelly-DataSet.xlsx')\n",
    "df.head(5)"
   ]
  },
  {
   "cell_type": "code",
   "execution_count": 9,
   "metadata": {},
   "outputs": [
    {
     "data": {
      "text/plain": [
       "(1386, 12)"
      ]
     },
     "execution_count": 9,
     "metadata": {},
     "output_type": "execute_result"
    }
   ],
   "source": [
    "# Find how many records this dataframe has.\n",
    "df.shape"
   ]
  },
  {
   "cell_type": "code",
   "execution_count": 10,
   "metadata": {},
   "outputs": [
    {
     "data": {
      "text/plain": [
       "16632"
      ]
     },
     "execution_count": 10,
     "metadata": {},
     "output_type": "execute_result"
    }
   ],
   "source": [
    "# How many elements are there?\n",
    "df.size"
   ]
  },
  {
   "cell_type": "code",
   "execution_count": 11,
   "metadata": {},
   "outputs": [
    {
     "data": {
      "text/plain": [
       "Index(['Date', 'Region', 'Store', 'Units Sold', 'Average Retail Price',\n",
       "       'Sales Rep', 'Endcap', 'Demo', 'Demo1-3', 'Demo4-5', 'Natural',\n",
       "       'Fitness'],\n",
       "      dtype='object')"
      ]
     },
     "execution_count": 11,
     "metadata": {},
     "output_type": "execute_result"
    }
   ],
   "source": [
    "# What are the column names?\n",
    "df.columns"
   ]
  },
  {
   "cell_type": "code",
   "execution_count": 39,
   "metadata": {},
   "outputs": [
    {
     "data": {
      "text/plain": [
       "Date                    datetime64[ns]\n",
       "Region                          object\n",
       "Store                           object\n",
       "Units Sold                     float64\n",
       "Average Retail Price           float64\n",
       "Sales Rep                        int64\n",
       "Endcap                           int64\n",
       "Demo                             int64\n",
       "Demo1-3                          int64\n",
       "Demo4-5                          int64\n",
       "Natural                          int64\n",
       "Fitness                          int64\n",
       "dtype: object"
      ]
     },
     "execution_count": 39,
     "metadata": {},
     "output_type": "execute_result"
    }
   ],
   "source": [
    "# What types of columns do we have in this data frame?\n",
    "df.dtypes"
   ]
  },
  {
   "cell_type": "code",
   "execution_count": 14,
   "metadata": {},
   "outputs": [
    {
     "data": {
      "text/html": [
       "<div>\n",
       "<style scoped>\n",
       "    .dataframe tbody tr th:only-of-type {\n",
       "        vertical-align: middle;\n",
       "    }\n",
       "\n",
       "    .dataframe tbody tr th {\n",
       "        vertical-align: top;\n",
       "    }\n",
       "\n",
       "    .dataframe thead th {\n",
       "        text-align: right;\n",
       "    }\n",
       "</style>\n",
       "<table border=\"1\" class=\"dataframe\">\n",
       "  <thead>\n",
       "    <tr style=\"text-align: right;\">\n",
       "      <th></th>\n",
       "      <th>Date</th>\n",
       "      <th>Units Sold</th>\n",
       "      <th>Average Retail Price</th>\n",
       "      <th>Sales Rep</th>\n",
       "      <th>Endcap</th>\n",
       "      <th>Demo</th>\n",
       "      <th>Demo1-3</th>\n",
       "      <th>Demo4-5</th>\n",
       "      <th>Natural</th>\n",
       "      <th>Fitness</th>\n",
       "    </tr>\n",
       "  </thead>\n",
       "  <tbody>\n",
       "    <tr>\n",
       "      <th>count</th>\n",
       "      <td>1386</td>\n",
       "      <td>1386.000000</td>\n",
       "      <td>1386.000000</td>\n",
       "      <td>1386.000000</td>\n",
       "      <td>1386.000000</td>\n",
       "      <td>1386.000000</td>\n",
       "      <td>1386.000000</td>\n",
       "      <td>1386.000000</td>\n",
       "      <td>1386.000000</td>\n",
       "      <td>1386.000000</td>\n",
       "    </tr>\n",
       "    <tr>\n",
       "      <th>mean</th>\n",
       "      <td>2010-06-08 00:00:00</td>\n",
       "      <td>253.820718</td>\n",
       "      <td>4.107093</td>\n",
       "      <td>0.549784</td>\n",
       "      <td>0.038240</td>\n",
       "      <td>0.058442</td>\n",
       "      <td>0.156566</td>\n",
       "      <td>0.075758</td>\n",
       "      <td>1.448773</td>\n",
       "      <td>2.476190</td>\n",
       "    </tr>\n",
       "    <tr>\n",
       "      <th>min</th>\n",
       "      <td>2010-05-04 00:00:00</td>\n",
       "      <td>47.559852</td>\n",
       "      <td>2.889286</td>\n",
       "      <td>0.000000</td>\n",
       "      <td>0.000000</td>\n",
       "      <td>0.000000</td>\n",
       "      <td>0.000000</td>\n",
       "      <td>0.000000</td>\n",
       "      <td>0.000000</td>\n",
       "      <td>0.000000</td>\n",
       "    </tr>\n",
       "    <tr>\n",
       "      <th>25%</th>\n",
       "      <td>2010-05-18 00:00:00</td>\n",
       "      <td>189.995471</td>\n",
       "      <td>3.775714</td>\n",
       "      <td>0.000000</td>\n",
       "      <td>0.000000</td>\n",
       "      <td>0.000000</td>\n",
       "      <td>0.000000</td>\n",
       "      <td>0.000000</td>\n",
       "      <td>1.000000</td>\n",
       "      <td>1.000000</td>\n",
       "    </tr>\n",
       "    <tr>\n",
       "      <th>50%</th>\n",
       "      <td>2010-06-08 00:00:00</td>\n",
       "      <td>236.735266</td>\n",
       "      <td>4.096667</td>\n",
       "      <td>1.000000</td>\n",
       "      <td>0.000000</td>\n",
       "      <td>0.000000</td>\n",
       "      <td>0.000000</td>\n",
       "      <td>0.000000</td>\n",
       "      <td>1.000000</td>\n",
       "      <td>2.000000</td>\n",
       "    </tr>\n",
       "    <tr>\n",
       "      <th>75%</th>\n",
       "      <td>2010-06-29 00:00:00</td>\n",
       "      <td>295.804391</td>\n",
       "      <td>4.425067</td>\n",
       "      <td>1.000000</td>\n",
       "      <td>0.000000</td>\n",
       "      <td>0.000000</td>\n",
       "      <td>0.000000</td>\n",
       "      <td>0.000000</td>\n",
       "      <td>2.000000</td>\n",
       "      <td>4.000000</td>\n",
       "    </tr>\n",
       "    <tr>\n",
       "      <th>max</th>\n",
       "      <td>2010-07-13 00:00:00</td>\n",
       "      <td>1041.200256</td>\n",
       "      <td>6.251538</td>\n",
       "      <td>1.000000</td>\n",
       "      <td>1.000000</td>\n",
       "      <td>1.000000</td>\n",
       "      <td>1.000000</td>\n",
       "      <td>1.000000</td>\n",
       "      <td>4.000000</td>\n",
       "      <td>5.000000</td>\n",
       "    </tr>\n",
       "    <tr>\n",
       "      <th>std</th>\n",
       "      <td>NaN</td>\n",
       "      <td>110.998731</td>\n",
       "      <td>0.463828</td>\n",
       "      <td>0.497695</td>\n",
       "      <td>0.191843</td>\n",
       "      <td>0.234661</td>\n",
       "      <td>0.363522</td>\n",
       "      <td>0.264705</td>\n",
       "      <td>0.975092</td>\n",
       "      <td>1.592789</td>\n",
       "    </tr>\n",
       "  </tbody>\n",
       "</table>\n",
       "</div>"
      ],
      "text/plain": [
       "                      Date   Units Sold  Average Retail Price    Sales Rep  \\\n",
       "count                 1386  1386.000000           1386.000000  1386.000000   \n",
       "mean   2010-06-08 00:00:00   253.820718              4.107093     0.549784   \n",
       "min    2010-05-04 00:00:00    47.559852              2.889286     0.000000   \n",
       "25%    2010-05-18 00:00:00   189.995471              3.775714     0.000000   \n",
       "50%    2010-06-08 00:00:00   236.735266              4.096667     1.000000   \n",
       "75%    2010-06-29 00:00:00   295.804391              4.425067     1.000000   \n",
       "max    2010-07-13 00:00:00  1041.200256              6.251538     1.000000   \n",
       "std                    NaN   110.998731              0.463828     0.497695   \n",
       "\n",
       "            Endcap         Demo      Demo1-3      Demo4-5      Natural  \\\n",
       "count  1386.000000  1386.000000  1386.000000  1386.000000  1386.000000   \n",
       "mean      0.038240     0.058442     0.156566     0.075758     1.448773   \n",
       "min       0.000000     0.000000     0.000000     0.000000     0.000000   \n",
       "25%       0.000000     0.000000     0.000000     0.000000     1.000000   \n",
       "50%       0.000000     0.000000     0.000000     0.000000     1.000000   \n",
       "75%       0.000000     0.000000     0.000000     0.000000     2.000000   \n",
       "max       1.000000     1.000000     1.000000     1.000000     4.000000   \n",
       "std       0.191843     0.234661     0.363522     0.264705     0.975092   \n",
       "\n",
       "           Fitness  \n",
       "count  1386.000000  \n",
       "mean      2.476190  \n",
       "min       0.000000  \n",
       "25%       1.000000  \n",
       "50%       2.000000  \n",
       "75%       4.000000  \n",
       "max       5.000000  \n",
       "std       1.592789  "
      ]
     },
     "execution_count": 14,
     "metadata": {},
     "output_type": "execute_result"
    }
   ],
   "source": [
    "# Give the summary for the numeric columns in the dataset\n",
    "df.describe()"
   ]
  },
  {
   "cell_type": "code",
   "execution_count": 18,
   "metadata": {},
   "outputs": [
    {
     "data": {
      "text/plain": [
       "Units Sold              110.998731\n",
       "Average Retail Price      0.463828\n",
       "Sales Rep                 0.497695\n",
       "Endcap                    0.191843\n",
       "Demo                      0.234661\n",
       "Demo1-3                   0.363522\n",
       "Demo4-5                   0.264705\n",
       "Natural                   0.975092\n",
       "Fitness                   1.592789\n",
       "dtype: float64"
      ]
     },
     "execution_count": 18,
     "metadata": {},
     "output_type": "execute_result"
    }
   ],
   "source": [
    "# Calculate standard deviation for all numeric columns;\n",
    "df.select_dtypes(include='number').std()\n",
    "\n",
    "# Can also use `loc` \n",
    "# df.describe().loc['std']"
   ]
  },
  {
   "cell_type": "code",
   "execution_count": 28,
   "metadata": {},
   "outputs": [
    {
     "data": {
      "text/plain": [
       "Units Sold              186.280727\n",
       "Average Retail Price      4.128036\n",
       "Sales Rep                 0.000000\n",
       "Endcap                    0.100000\n",
       "Demo                      0.000000\n",
       "Demo1-3                   0.000000\n",
       "Demo4-5                   0.040000\n",
       "Natural                   1.300000\n",
       "Fitness                   1.560000\n",
       "dtype: float64"
      ]
     },
     "execution_count": 28,
     "metadata": {},
     "output_type": "execute_result"
    }
   ],
   "source": [
    "# What are the mean values of the first 50 records in the dataset? Hint: Use `head()` method to subset the first 50 records and then calculate the mean.\n",
    "# Let us use min(50, total_rows) to make sure code runs when df has less than 50 rows.\n",
    "df.head(min(50, df.shape[0])).select_dtypes(include='number').mean()"
   ]
  }
 ],
 "metadata": {
  "kernelspec": {
   "display_name": "notebooks_env",
   "language": "python",
   "name": "python3"
  },
  "language_info": {
   "codemirror_mode": {
    "name": "ipython",
    "version": 3
   },
   "file_extension": ".py",
   "mimetype": "text/x-python",
   "name": "python",
   "nbconvert_exporter": "python",
   "pygments_lexer": "ipython3",
   "version": "3.12.5"
  }
 },
 "nbformat": 4,
 "nbformat_minor": 2
}
